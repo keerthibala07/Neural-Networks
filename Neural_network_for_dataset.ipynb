{
  "nbformat": 4,
  "nbformat_minor": 0,
  "metadata": {
    "colab": {
      "provenance": [],
      "authorship_tag": "ABX9TyMdiDPztZTSRd124zLEfG6q",
      "include_colab_link": true
    },
    "kernelspec": {
      "name": "python3",
      "display_name": "Python 3"
    },
    "language_info": {
      "name": "python"
    }
  },
  "cells": [
    {
      "cell_type": "markdown",
      "metadata": {
        "id": "view-in-github",
        "colab_type": "text"
      },
      "source": [
        "<a href=\"https://colab.research.google.com/github/keerthibala07/Neural-Networks/blob/main/Neural_network_for_dataset.ipynb\" target=\"_parent\"><img src=\"https://colab.research.google.com/assets/colab-badge.svg\" alt=\"Open In Colab\"/></a>"
      ]
    },
    {
      "cell_type": "code",
      "execution_count": 8,
      "metadata": {
        "id": "6Lob7dxxatWV",
        "colab": {
          "base_uri": "https://localhost:8080/"
        },
        "outputId": "006e067f-c211-4643-933e-26fd78245007"
      },
      "outputs": [
        {
          "output_type": "stream",
          "name": "stdout",
          "text": [
            "Epoch 1/10\n",
            "12/12 [==============================] - 2s 39ms/step - loss: 0.7639 - accuracy: 0.6264 - val_loss: 0.5229 - val_accuracy: 0.6374\n",
            "Epoch 2/10\n",
            "12/12 [==============================] - 0s 9ms/step - loss: 0.3923 - accuracy: 0.8104 - val_loss: 0.2905 - val_accuracy: 0.9341\n",
            "Epoch 3/10\n",
            "12/12 [==============================] - 0s 9ms/step - loss: 0.2251 - accuracy: 0.9478 - val_loss: 0.1972 - val_accuracy: 0.9341\n",
            "Epoch 4/10\n",
            "12/12 [==============================] - 0s 10ms/step - loss: 0.1494 - accuracy: 0.9670 - val_loss: 0.1573 - val_accuracy: 0.9560\n",
            "Epoch 5/10\n",
            "12/12 [==============================] - 0s 12ms/step - loss: 0.1138 - accuracy: 0.9753 - val_loss: 0.1358 - val_accuracy: 0.9670\n",
            "Epoch 6/10\n",
            "12/12 [==============================] - 0s 8ms/step - loss: 0.0931 - accuracy: 0.9835 - val_loss: 0.1212 - val_accuracy: 0.9670\n",
            "Epoch 7/10\n",
            "12/12 [==============================] - 0s 12ms/step - loss: 0.0818 - accuracy: 0.9780 - val_loss: 0.1126 - val_accuracy: 0.9670\n",
            "Epoch 8/10\n",
            "12/12 [==============================] - 0s 11ms/step - loss: 0.0724 - accuracy: 0.9780 - val_loss: 0.1065 - val_accuracy: 0.9670\n",
            "Epoch 9/10\n",
            "12/12 [==============================] - 0s 19ms/step - loss: 0.0655 - accuracy: 0.9863 - val_loss: 0.1016 - val_accuracy: 0.9670\n",
            "Epoch 10/10\n",
            "12/12 [==============================] - 0s 15ms/step - loss: 0.0600 - accuracy: 0.9863 - val_loss: 0.0978 - val_accuracy: 0.9670\n",
            "4/4 [==============================] - 0s 8ms/step\n",
            "Test Accuracy: 98.25%\n"
          ]
        }
      ],
      "source": [
        "import numpy as np\n",
        "import matplotlib.pyplot as plt\n",
        "from sklearn.datasets import load_breast_cancer\n",
        "from sklearn.model_selection import train_test_split\n",
        "from sklearn.preprocessing import StandardScaler\n",
        "from tensorflow.keras.models import Sequential\n",
        "from tensorflow.keras.layers import Dense\n",
        "from tensorflow.keras.optimizers import Adam\n",
        "from sklearn.metrics import accuracy_score\n",
        "\n",
        "# Load the Breast Cancer Wisconsin dataset\n",
        "data = load_breast_cancer()\n",
        "X = data.data\n",
        "y = data.target\n",
        "\n",
        "# Split the data into training and testing sets\n",
        "X_train, X_test, y_train, y_test = train_test_split(X, y, test_size=0.2, random_state=42)\n",
        "\n",
        "# Standardize the input features\n",
        "scaler = StandardScaler()\n",
        "X_train = scaler.fit_transform(X_train)\n",
        "X_test = scaler.transform(X_test)\n",
        "\n",
        "# Create a simple neural network model\n",
        "model = Sequential()\n",
        "model.add(Dense(64, input_dim=X_train.shape[1], activation='relu'))\n",
        "model.add(Dense(32, activation='relu'))\n",
        "model.add(Dense(1, activation='sigmoid'))\n",
        "\n",
        "# Compile the model\n",
        "model.compile(optimizer=Adam(learning_rate=0.001), loss='binary_crossentropy', metrics=['accuracy'])\n",
        "\n",
        "# Train the model\n",
        "model.fit(X_train, y_train, epochs=10, batch_size=32, validation_split=0.2)\n",
        "\n",
        "# Evaluate the model on the test set\n",
        "y_pred = (model.predict(X_test) > 0.5).astype(int)\n",
        "accuracy = accuracy_score(y_test, y_pred)\n",
        "\n",
        "print(f\"Test Accuracy: {accuracy * 100:.2f}%\")\n"
      ]
    },
    {
      "cell_type": "code",
      "source": [
        "import numpy as np\n",
        "from sklearn.datasets import load_breast_cancer\n",
        "from sklearn.model_selection import train_test_split\n",
        "from sklearn.preprocessing import StandardScaler\n",
        "\n",
        "# Load Breast Cancer dataset\n",
        "data = load_breast_cancer()\n",
        "X, y = data.data, data.target\n",
        "\n",
        "# Standardize the features\n",
        "scaler = StandardScaler()\n",
        "X = scaler.fit_transform(X)\n",
        "\n",
        "# Add bias term to the input data\n",
        "X = np.c_[X, np.ones(X.shape[0])]\n",
        "\n",
        "# One-hot encode the target variable\n",
        "num_classes = len(np.unique(y))\n",
        "y_onehot = np.eye(num_classes)[y]\n",
        "\n",
        "# Split data into training and testing sets\n",
        "X_train, X_test, y_train, y_test = train_test_split(X, y_onehot, test_size=0.2, random_state=42)\n",
        "\n",
        "# Neural network architecture\n",
        "input_neurons = X_train.shape[1]\n",
        "hidden_neurons = 8\n",
        "output_neurons = num_classes\n",
        "\n",
        "# Initialize weights randomly\n",
        "np.random.seed(42)\n",
        "hidden_weights = np.random.rand(input_neurons, hidden_neurons)\n",
        "output_weights = np.random.rand(hidden_neurons, output_neurons)\n",
        "\n",
        "# Training the neural network (forward propagation and backpropagation)\n",
        "learning_rate = 0.1\n",
        "epochs = 50\n",
        "\n",
        "for epoch in range(epochs):\n",
        "    # Forward propagation\n",
        "    hidden_layer_activation = np.dot(X_train, hidden_weights)\n",
        "    hidden_layer_output = 1 / (1 + np.exp(-hidden_layer_activation))\n",
        "\n",
        "    output_layer_activation = np.dot(hidden_layer_output, output_weights)\n",
        "    output = 1 / (1 + np.exp(-output_layer_activation))\n",
        "\n",
        "    # Backpropagation\n",
        "    output_error = y_train - output\n",
        "    output_delta = output_error * output * (1 - output)\n",
        "\n",
        "    hidden_error = output_delta.dot(output_weights.T)\n",
        "    hidden_delta = hidden_error * hidden_layer_output * (1 - hidden_layer_output)\n",
        "\n",
        "    # Update weights\n",
        "    output_weights += hidden_layer_output.T.dot(output_delta) * learning_rate\n",
        "    hidden_weights += X_train.T.dot(hidden_delta) * learning_rate\n",
        "\n",
        "# Testing the trained model\n",
        "hidden_layer_activation = np.dot(X_test, hidden_weights)\n",
        "hidden_layer_output = 1 / (1 + np.exp(-hidden_layer_activation))\n",
        "\n",
        "output_layer_activation = np.dot(hidden_layer_output, output_weights)\n",
        "test_output = 1 / (1 + np.exp(-output_layer_activation))\n",
        "\n",
        "# Calculate accuracy on the test set\n",
        "predicted_labels = np.argmax(test_output, axis=1)\n",
        "true_labels = np.argmax(y_test, axis=1)\n",
        "accuracy = np.mean(predicted_labels == true_labels)\n",
        "\n",
        "print(f\"Accuracy on test set: {accuracy * 100:.2f}%\")\n"
      ],
      "metadata": {
        "colab": {
          "base_uri": "https://localhost:8080/"
        },
        "id": "DO5wazHMaSC3",
        "outputId": "1c11a5c6-4caa-4631-9557-b8771cb1521d"
      },
      "execution_count": 15,
      "outputs": [
        {
          "output_type": "stream",
          "name": "stdout",
          "text": [
            "Accuracy on test set: 99.12%\n"
          ]
        }
      ]
    },
    {
      "cell_type": "code",
      "source": [],
      "metadata": {
        "id": "syLpBAOPavfp"
      },
      "execution_count": null,
      "outputs": []
    }
  ]
}