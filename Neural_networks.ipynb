{
  "nbformat": 4,
  "nbformat_minor": 0,
  "metadata": {
    "colab": {
      "provenance": [],
      "authorship_tag": "ABX9TyPfj6heoQytSMQgwYAmq1yl",
      "include_colab_link": true
    },
    "kernelspec": {
      "name": "python3",
      "display_name": "Python 3"
    },
    "language_info": {
      "name": "python"
    }
  },
  "cells": [
    {
      "cell_type": "markdown",
      "metadata": {
        "id": "view-in-github",
        "colab_type": "text"
      },
      "source": [
        "<a href=\"https://colab.research.google.com/github/keerthibala07/Neural-Networks/blob/main/Neural_networks.ipynb\" target=\"_parent\"><img src=\"https://colab.research.google.com/assets/colab-badge.svg\" alt=\"Open In Colab\"/></a>"
      ]
    },
    {
      "cell_type": "code",
      "execution_count": 1,
      "metadata": {
        "id": "DOKs62FISFRz"
      },
      "outputs": [],
      "source": [
        "import numpy as np"
      ]
    },
    {
      "cell_type": "code",
      "source": [
        "x=np.array([[1,0,1,0],[1,0,1,1],[0,1,0,1]])\n",
        "x"
      ],
      "metadata": {
        "colab": {
          "base_uri": "https://localhost:8080/"
        },
        "id": "jemgcTEvSse8",
        "outputId": "0bba3bc8-cc04-4e39-f315-61bd5a68d56d"
      },
      "execution_count": 2,
      "outputs": [
        {
          "output_type": "execute_result",
          "data": {
            "text/plain": [
              "array([[1, 0, 1, 0],\n",
              "       [1, 0, 1, 1],\n",
              "       [0, 1, 0, 1]])"
            ]
          },
          "metadata": {},
          "execution_count": 2
        }
      ]
    },
    {
      "cell_type": "code",
      "source": [
        "y=np.array([[1],[0],[1]])\n",
        "y"
      ],
      "metadata": {
        "colab": {
          "base_uri": "https://localhost:8080/"
        },
        "id": "sqZ7EhMWS4G0",
        "outputId": "24c8e660-7e91-4209-ba3c-b29d5a1d3432"
      },
      "execution_count": 3,
      "outputs": [
        {
          "output_type": "execute_result",
          "data": {
            "text/plain": [
              "array([[1],\n",
              "       [0],\n",
              "       [1]])"
            ]
          },
          "metadata": {},
          "execution_count": 3
        }
      ]
    },
    {
      "cell_type": "code",
      "source": [
        "#sibmoid function\n",
        "def sigmoid(x):\n",
        "  return 1/(1+np.exp(-x))"
      ],
      "metadata": {
        "id": "CEwqRe7uTVpc"
      },
      "execution_count": 4,
      "outputs": []
    },
    {
      "cell_type": "code",
      "source": [
        "def derivative_sigmoid(x):\n",
        "  return x*(1-x)"
      ],
      "metadata": {
        "id": "l_Eo-dSGTo6c"
      },
      "execution_count": 5,
      "outputs": []
    },
    {
      "cell_type": "code",
      "source": [
        "epoch=5000\n",
        "lr=0.1\n",
        "input_neurons=x.shape[1]\n",
        "hidden_neurons=3\n",
        "output_neurons=1"
      ],
      "metadata": {
        "id": "wM7OwsF5T6x2"
      },
      "execution_count": 6,
      "outputs": []
    },
    {
      "cell_type": "code",
      "source": [
        "wh=np.random.uniform(size=(input_neurons,hidden_neurons))\n",
        "bh=np.random.uniform(size=(1,hidden_neurons))\n",
        "wo=np.random.uniform(size=(hidden_neurons,output_neurons))\n",
        "bo=np.random.uniform(size=(1,output_neurons))"
      ],
      "metadata": {
        "id": "4ryb-fqUUhOg"
      },
      "execution_count": 7,
      "outputs": []
    },
    {
      "cell_type": "code",
      "source": [
        "for i in range(epoch):\n",
        "    hidden_layer_input = np.dot(x, wh) + bh\n",
        "    hidden_layer_activation = sigmoid(hidden_layer_input)\n",
        "    output_layer_input = np.dot(hidden_layer_activation, wo) + bo\n",
        "    predicted_output = sigmoid(output_layer_input)\n",
        "    error = y - predicted_output\n",
        "    slope_output_layer = derivative_sigmoid(predicted_output)\n",
        "    delta_output = error * slope_output_layer\n",
        "    error_hidden_layer = delta_output.dot(wo.T)\n",
        "    slope_hidden_layer = derivative_sigmoid(hidden_layer_activation)\n",
        "    delta_hidden = error_hidden_layer * slope_hidden_layer\n",
        "    wo += hidden_layer_activation.T.dot(delta_output) * lr\n",
        "    bo += np.sum(delta_output, axis=0, keepdims=True) * lr\n",
        "    wh += x.T.dot(delta_hidden) * lr\n",
        "    bh += np.sum(delta_hidden, axis=0, keepdims=True) * lr\n"
      ],
      "metadata": {
        "id": "FCNnIpWNVU0n"
      },
      "execution_count": 8,
      "outputs": []
    },
    {
      "cell_type": "code",
      "source": [
        "print(\"output after training\")\n",
        "print(predicted_output)"
      ],
      "metadata": {
        "colab": {
          "base_uri": "https://localhost:8080/"
        },
        "id": "_5EXWi4JX9hb",
        "outputId": "8b3827df-76f3-4a97-e5e6-71dfcfeace07"
      },
      "execution_count": 10,
      "outputs": [
        {
          "output_type": "stream",
          "name": "stdout",
          "text": [
            "output after training\n",
            "[[0.95086821]\n",
            " [0.05941495]\n",
            " [0.97209358]]\n"
          ]
        }
      ]
    },
    {
      "cell_type": "code",
      "source": [],
      "metadata": {
        "id": "vwxX0j7PYINn"
      },
      "execution_count": null,
      "outputs": []
    }
  ]
}