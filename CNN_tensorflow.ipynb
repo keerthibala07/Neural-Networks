{
  "nbformat": 4,
  "nbformat_minor": 0,
  "metadata": {
    "colab": {
      "provenance": [],
      "include_colab_link": true
    },
    "kernelspec": {
      "name": "python3",
      "display_name": "Python 3"
    },
    "language_info": {
      "name": "python"
    }
  },
  "cells": [
    {
      "cell_type": "markdown",
      "metadata": {
        "id": "view-in-github",
        "colab_type": "text"
      },
      "source": [
        "<a href=\"https://colab.research.google.com/github/keerthibala07/Neural-Networks/blob/main/CNN_tensorflow.ipynb\" target=\"_parent\"><img src=\"https://colab.research.google.com/assets/colab-badge.svg\" alt=\"Open In Colab\"/></a>"
      ]
    },
    {
      "cell_type": "code",
      "execution_count": 15,
      "metadata": {
        "id": "N58eVf8L6ZU6"
      },
      "outputs": [],
      "source": [
        "import tensorflow as tf\n",
        "from keras import layers,models\n",
        "from keras.datasets import fashion_mnist\n",
        "from keras.utils import to_categorical"
      ]
    },
    {
      "cell_type": "code",
      "source": [
        "(train_images,train_labels),(test_images,test_labels)=fashion_mnist.load_data()"
      ],
      "metadata": {
        "id": "rXWUkMFT7E-v"
      },
      "execution_count": 16,
      "outputs": []
    },
    {
      "cell_type": "code",
      "source": [
        "train_images,test_images=train_images/255.0,test_images/255.0"
      ],
      "metadata": {
        "id": "27GbllOR7hOZ"
      },
      "execution_count": 17,
      "outputs": []
    },
    {
      "cell_type": "code",
      "source": [
        "train_images = train_images.reshape((60000, 28, 28, 1))\n",
        "test_images = test_images.reshape((10000, 28, 28, 1))"
      ],
      "metadata": {
        "id": "hFGSZ7yt8fJ6"
      },
      "execution_count": 18,
      "outputs": []
    },
    {
      "cell_type": "code",
      "source": [
        "train_labels = to_categorical(train_labels)\n",
        "test_labels = to_categorical(test_labels)"
      ],
      "metadata": {
        "id": "BJl6ebjh8tGD"
      },
      "execution_count": 19,
      "outputs": []
    },
    {
      "cell_type": "code",
      "source": [
        "model = models.Sequential()\n",
        "model.add(layers.Conv2D(32, (3, 3), activation='relu', input_shape=(28, 28, 1)))\n",
        "model.add(layers.MaxPooling2D((2, 2)))\n",
        "model.add(layers.Conv2D(64, (3, 3), activation='relu'))\n",
        "model.add(layers.MaxPooling2D((2, 2)))\n",
        "model.add(layers.Conv2D(64, (3, 3), activation='relu'))\n",
        "model.add(layers.Flatten())\n",
        "model.add(layers.Dense(64, activation='relu'))\n",
        "model.add(layers.Dense(10, activation='softmax'))\n"
      ],
      "metadata": {
        "id": "HgYEorQh9YG9"
      },
      "execution_count": 20,
      "outputs": []
    },
    {
      "cell_type": "code",
      "source": [
        "model.compile(optimizer='adam', loss='categorical_crossentropy', metrics=['accuracy'])\n"
      ],
      "metadata": {
        "id": "3OgZ_vgL9oDH"
      },
      "execution_count": 21,
      "outputs": []
    },
    {
      "cell_type": "code",
      "source": [],
      "metadata": {
        "id": "H1-5022A_alp"
      },
      "execution_count": 21,
      "outputs": []
    },
    {
      "cell_type": "code",
      "execution_count": 22,
      "metadata": {
        "id": "Hrf6lRr6D3Rf"
      },
      "outputs": [],
      "source": [
        "import tensorflow as tf\n",
        "from keras import layers,models\n",
        "from keras.datasets import fashion_mnist\n",
        "from keras.utils import to_categorical"
      ]
    },
    {
      "cell_type": "code",
      "source": [
        "(train_images,train_labels),(test_images,test_labels)=fashion_mnist.load_data()"
      ],
      "metadata": {
        "id": "tRRrHnqgD3Rj"
      },
      "execution_count": 23,
      "outputs": []
    },
    {
      "cell_type": "code",
      "source": [
        "train_images,test_images=train_images/255.0,test_images/255.0"
      ],
      "metadata": {
        "id": "Gf2fyCzcD3Rl"
      },
      "execution_count": 24,
      "outputs": []
    },
    {
      "cell_type": "code",
      "source": [
        "train_images = train_images.reshape((60000, 28, 28, 1))\n",
        "test_images = test_images.reshape((10000, 28, 28, 1))"
      ],
      "metadata": {
        "id": "1ICEzxknD3Rl"
      },
      "execution_count": 25,
      "outputs": []
    },
    {
      "cell_type": "code",
      "source": [
        "train_labels = to_categorical(train_labels)\n",
        "test_labels = to_categorical(test_labels)"
      ],
      "metadata": {
        "id": "Q6QMLFxYD3Rm"
      },
      "execution_count": 26,
      "outputs": []
    },
    {
      "cell_type": "code",
      "source": [
        "model = models.Sequential()\n",
        "model.add(layers.Conv2D(32, (3, 3), activation='relu', input_shape=(28, 28, 1)))\n",
        "model.add(layers.MaxPooling2D((2, 2)))\n",
        "model.add(layers.Conv2D(64, (3, 3), activation='relu'))\n",
        "model.add(layers.MaxPooling2D((2, 2)))\n",
        "model.add(layers.Conv2D(64, (3, 3), activation='relu'))\n",
        "model.add(layers.Flatten())\n",
        "model.add(layers.Dense(64, activation='relu'))\n",
        "model.add(layers.Dense(10, activation='softmax'))\n"
      ],
      "metadata": {
        "id": "UdxXYAjJD3Rm"
      },
      "execution_count": 27,
      "outputs": []
    },
    {
      "cell_type": "code",
      "source": [
        "model.compile(optimizer='adam', loss='categorical_crossentropy', metrics=['accuracy'])"
      ],
      "metadata": {
        "id": "6L2ZfsJhD3Rn"
      },
      "execution_count": 28,
      "outputs": []
    },
    {
      "cell_type": "code",
      "source": [
        "model.fit(train_images, train_labels, epochs=15, validation_data=(test_images, test_labels))"
      ],
      "metadata": {
        "colab": {
          "base_uri": "https://localhost:8080/"
        },
        "outputId": "edd1dfc4-363b-4ce7-b7dc-a378f24f41ac",
        "id": "3NCAFZn0D3Rn"
      },
      "execution_count": 29,
      "outputs": [
        {
          "output_type": "stream",
          "name": "stdout",
          "text": [
            "Epoch 1/15\n",
            "1875/1875 [==============================] - 62s 32ms/step - loss: 0.5053 - accuracy: 0.8144 - val_loss: 0.3569 - val_accuracy: 0.8697\n",
            "Epoch 2/15\n",
            "1875/1875 [==============================] - 54s 29ms/step - loss: 0.3247 - accuracy: 0.8821 - val_loss: 0.3242 - val_accuracy: 0.8813\n",
            "Epoch 3/15\n",
            "1875/1875 [==============================] - 55s 29ms/step - loss: 0.2771 - accuracy: 0.8973 - val_loss: 0.3079 - val_accuracy: 0.8891\n",
            "Epoch 4/15\n",
            "1875/1875 [==============================] - 55s 29ms/step - loss: 0.2454 - accuracy: 0.9077 - val_loss: 0.2862 - val_accuracy: 0.8970\n",
            "Epoch 5/15\n",
            "1875/1875 [==============================] - 53s 28ms/step - loss: 0.2196 - accuracy: 0.9185 - val_loss: 0.2727 - val_accuracy: 0.9011\n",
            "Epoch 6/15\n",
            "1875/1875 [==============================] - 53s 28ms/step - loss: 0.1993 - accuracy: 0.9251 - val_loss: 0.2676 - val_accuracy: 0.9021\n",
            "Epoch 7/15\n",
            "1875/1875 [==============================] - 52s 28ms/step - loss: 0.1841 - accuracy: 0.9322 - val_loss: 0.2808 - val_accuracy: 0.9028\n",
            "Epoch 8/15\n",
            "1875/1875 [==============================] - 53s 28ms/step - loss: 0.1661 - accuracy: 0.9383 - val_loss: 0.2724 - val_accuracy: 0.9062\n",
            "Epoch 9/15\n",
            "1875/1875 [==============================] - 53s 28ms/step - loss: 0.1540 - accuracy: 0.9419 - val_loss: 0.2706 - val_accuracy: 0.9090\n",
            "Epoch 10/15\n",
            "1875/1875 [==============================] - 56s 30ms/step - loss: 0.1398 - accuracy: 0.9480 - val_loss: 0.2693 - val_accuracy: 0.9058\n",
            "Epoch 11/15\n",
            "1875/1875 [==============================] - 53s 28ms/step - loss: 0.1305 - accuracy: 0.9510 - val_loss: 0.2938 - val_accuracy: 0.9082\n",
            "Epoch 12/15\n",
            "1875/1875 [==============================] - 56s 30ms/step - loss: 0.1199 - accuracy: 0.9536 - val_loss: 0.3064 - val_accuracy: 0.9072\n",
            "Epoch 13/15\n",
            "1875/1875 [==============================] - 53s 28ms/step - loss: 0.1096 - accuracy: 0.9583 - val_loss: 0.3169 - val_accuracy: 0.9075\n",
            "Epoch 14/15\n",
            "1875/1875 [==============================] - 55s 29ms/step - loss: 0.1030 - accuracy: 0.9615 - val_loss: 0.3342 - val_accuracy: 0.9014\n",
            "Epoch 15/15\n",
            "1875/1875 [==============================] - 53s 28ms/step - loss: 0.0945 - accuracy: 0.9635 - val_loss: 0.3367 - val_accuracy: 0.9086\n"
          ]
        },
        {
          "output_type": "execute_result",
          "data": {
            "text/plain": [
              "<keras.src.callbacks.History at 0x795ba884be80>"
            ]
          },
          "metadata": {},
          "execution_count": 29
        }
      ]
    },
    {
      "cell_type": "code",
      "source": [
        "test_loss, test_accuracy = model.evaluate(test_images, test_labels)\n",
        "print(f'Test Accuracy: {test_accuracy * 100:.2f}%')"
      ],
      "metadata": {
        "colab": {
          "base_uri": "https://localhost:8080/"
        },
        "id": "JkFMcj_9Aw4T",
        "outputId": "33df52a6-1b81-4974-b0d3-4412261e5303"
      },
      "execution_count": 30,
      "outputs": [
        {
          "output_type": "stream",
          "name": "stdout",
          "text": [
            "313/313 [==============================] - 2s 8ms/step - loss: 0.3367 - accuracy: 0.9086\n",
            "Test Accuracy: 90.86%\n"
          ]
        }
      ]
    },
    {
      "cell_type": "code",
      "source": [],
      "metadata": {
        "id": "jW0E4vWOASMY"
      },
      "execution_count": 30,
      "outputs": []
    }
  ]
}